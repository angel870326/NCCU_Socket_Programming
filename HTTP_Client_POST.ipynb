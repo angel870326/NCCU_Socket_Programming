{
 "cells": [
  {
   "cell_type": "markdown",
   "metadata": {},
   "source": [
    "## TCP Socket Client\n",
    "\n",
    "Please google \"berkeley socket programming\" first. You can find a diagram that describes how to use socket. For a client, it includes the following steps. We will explain them one by one.\n",
    "\n",
    "* socket\n",
    "* connect\n",
    "* recv, sned (may repeat multiple times)\n",
    "* close socket"
   ]
  },
  {
   "cell_type": "code",
   "execution_count": 1,
   "metadata": {},
   "outputs": [],
   "source": [
    "import socket\n",
    "import threading"
   ]
  },
  {
   "cell_type": "code",
   "execution_count": 2,
   "metadata": {},
   "outputs": [],
   "source": [
    "s = socket.socket(socket.AF_INET, socket.SOCK_STREAM)"
   ]
  },
  {
   "cell_type": "code",
   "execution_count": 3,
   "metadata": {},
   "outputs": [],
   "source": [
    "pars = ('127.0.0.1', 80) # server IP and server port\n",
    "s.connect(pars)"
   ]
  },
  {
   "cell_type": "code",
   "execution_count": 4,
   "metadata": {},
   "outputs": [
    {
     "name": "stdout",
     "output_type": "stream",
     "text": [
      "data from server: b'HTTP/1.0 200 OK\\r\\nDate: Sat, 05 Dec 2020 03:30:12 GMT\\r\\nServer: localhost\\r\\nConnection: close\\r\\nContent-Type: text/html; charset=UTF-8\\r\\nContent-Length: 33\\r\\n\\r\\n<html><body>105204027<body><html>'\n"
     ]
    }
   ],
   "source": [
    "while True:\n",
    "    \n",
    "    # let the client talk firt\n",
    "    s.send(b'POST /post.html HTTP/1.0\\r\\nHost: 127.0.0.1\\r\\nContent-Type: text/html; charset=UTF-8\\r\\n\\r\\nid=105204027')\n",
    "    \n",
    "    # then wait for server response\n",
    "    data = s.recv(1024)\n",
    "    if data:\n",
    "        print(\"data from server:\", data)\n",
    "\n",
    "    # terminate\n",
    "    s.send(b'close')\n",
    "    break\n",
    "    \n",
    "# close directly\n",
    "s.close()"
   ]
  }
 ],
 "metadata": {
  "kernelspec": {
   "display_name": "Python 3",
   "language": "python",
   "name": "python3"
  },
  "language_info": {
   "codemirror_mode": {
    "name": "ipython",
    "version": 3
   },
   "file_extension": ".py",
   "mimetype": "text/x-python",
   "name": "python",
   "nbconvert_exporter": "python",
   "pygments_lexer": "ipython3",
   "version": "3.8.3"
  }
 },
 "nbformat": 4,
 "nbformat_minor": 2
}
