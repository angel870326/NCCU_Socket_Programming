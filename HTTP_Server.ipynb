{
 "cells": [
  {
   "cell_type": "markdown",
   "metadata": {},
   "source": [
    "## TCP Socket Server\n",
    "\n",
    "Please google \"berkeley socket programming\" first. You can find a diagram that describes how to use socket. For a server, it includes the following steps. We will explain them one by one.\n",
    "\n",
    "* socket\n",
    "* bind\n",
    "* listen\n",
    "* accept\n",
    "* recv, sned (may repeat multiple times)\n",
    "* close socket"
   ]
  },
  {
   "cell_type": "code",
   "execution_count": 1,
   "metadata": {},
   "outputs": [],
   "source": [
    "# import the socket library provided by Python\n",
    "\n",
    "import socket"
   ]
  },
  {
   "cell_type": "code",
   "execution_count": 2,
   "metadata": {},
   "outputs": [],
   "source": [
    "# multiple threads\n",
    "\n",
    "import threading"
   ]
  },
  {
   "cell_type": "code",
   "execution_count": 3,
   "metadata": {},
   "outputs": [],
   "source": [
    "import requests"
   ]
  },
  {
   "cell_type": "code",
   "execution_count": 4,
   "metadata": {},
   "outputs": [],
   "source": [
    "import time  "
   ]
  },
  {
   "cell_type": "markdown",
   "metadata": {},
   "source": [
    "### socket"
   ]
  },
  {
   "cell_type": "code",
   "execution_count": 5,
   "metadata": {},
   "outputs": [],
   "source": [
    "# create socket instance\n",
    "# socket.AF_INET is a constant value that indicates I want to use IP (Internet Protocol) as my L3 protocol\n",
    "# socket.SOCK_STREAM is a constant value that indicates I want to use TCP as my L4 protocol\n",
    "\n",
    "s = socket.socket(socket.AF_INET, socket.SOCK_STREAM)"
   ]
  },
  {
   "cell_type": "markdown",
   "metadata": {},
   "source": [
    "### bind"
   ]
  },
  {
   "cell_type": "code",
   "execution_count": 6,
   "metadata": {},
   "outputs": [],
   "source": [
    "# ask the OS to bind the created socket to user-specified parameters: (IP, TCP port)\n",
    "# the 1st parameter is the binded IP, the 2nd parameter is the binded port number\n",
    "# So that when the OS receives a datagram, the OS knows how to demux the datagram to the corresponding application \n",
    "\n",
    "pars = ('127.0.0.1', 80) # you can change the server port to whatever you want\n",
    "s.bind(pars)"
   ]
  },
  {
   "cell_type": "markdown",
   "metadata": {},
   "source": [
    "### listen"
   ]
  },
  {
   "cell_type": "code",
   "execution_count": 7,
   "metadata": {},
   "outputs": [],
   "source": [
    "# become a server socket\n",
    "# it makes this python program waiting for receiving message\n",
    "# listen() function has one parameter that limits how many clients can be connected to this server\n",
    "# we set it to 5 without any reason\n",
    "# you can change it to any number you want, as long as you have sufficient resources (computing, memory)\n",
    "\n",
    "s.listen(5)"
   ]
  },
  {
   "cell_type": "markdown",
   "metadata": {},
   "source": [
    "### recv, send and close function\n",
    "Note: it is a function declaration. This function will be called after 'accept'"
   ]
  },
  {
   "cell_type": "code",
   "execution_count": 8,
   "metadata": {},
   "outputs": [],
   "source": [
    "# a new thread is created for every new accepted client\n",
    "# every new thread starts from the function below\n",
    "\n",
    "def serveClient(clientsocket, address):\n",
    "    \n",
    "    # we need a loop to continuously receive messages from the client\n",
    "    while True:\n",
    "        # then receive at most 1024 bytes message and store these bytes in a variable named 'data'\n",
    "        data = clientsocket.recv(1024)\n",
    "        print(\"from client\", data)\n",
    "        \n",
    "        # data: GET /get.html HTTP/1.1\\r\\n\n",
    "        data_decode = data.decode()\n",
    "        start = data_decode.find('/',0)\n",
    "        end = data_decode.find('l',start)\n",
    "        end = end+1\n",
    "        print(data_decode[start:end])\n",
    "        \n",
    "        # time\n",
    "        gmt_now = time.strftime(\"%a, %d %b %Y %I:%M:%S GMT\", time.gmtime())\n",
    "                \n",
    "        # GET 200 OK\n",
    "        if data_decode[start:end] == \"/get.html\":\n",
    "            response_data = b'<html><body>good.html<body><html>'\n",
    "            length = len(response_data)            \n",
    "            response_status = b'HTTP/1.0 200 OK\\r\\n'\n",
    "            response_header= '%s%s%s%s%s%s%s%s%d%s' % ('Date: ',\n",
    "                                                       gmt_now,\n",
    "                                                       '\\r\\n',\n",
    "                                                       'Server: localhost\\r\\n',\n",
    "                                                       'Connection: close\\r\\n',\n",
    "                                                       'Accept-Ranges: bytes\\r\\n',\n",
    "                                                       'Content-Type: text/html; charset=UTF-8\\r\\n',\n",
    "                                                       'Content-Length: ',\n",
    "                                                       length,\n",
    "                                                       '\\r\\n')\n",
    "            response_header_b = response_header.encode(encoding=\"utf-8\")\n",
    "            clientsocket.send(response_status)\n",
    "            clientsocket.send(response_header_b) \n",
    "            clientsocket.send(b'\\r\\n') # to separate headers from body\n",
    "            clientsocket.send(response_data)\n",
    "\n",
    "            print(\"[200 OK Response]: \")\n",
    "            print(response_status)\n",
    "            print(response_header_b)\n",
    "            print(response_data)\n",
    "            break\n",
    "    \n",
    "        # GET 301 Moved Permanently      \n",
    "        elif data_decode[start:end] == \"/redirect.html\":\n",
    "            response_data = b'<html><body>Moved to get.html<body><html>'\n",
    "            length = len(response_data)  \n",
    "            response_status = b'HTTP/1.0 301 Moved Permanently\\r\\n'\n",
    "            clientsocket.send(response_status) \n",
    "            response_header= '%s%s%s%s%s%s%s%s%d%s' % ('Date: ',\n",
    "                                                       gmt_now,\n",
    "                                                       '\\r\\n',\n",
    "                                                       'Server: localhost\\r\\n',\n",
    "                                                       'Connection: close\\r\\n',\n",
    "                                                       'Location: http://127.0.0.1/get.html\\r\\n',\n",
    "                                                       'Content-Type: text/html\\r\\n',\n",
    "                                                       'Content-Length: ',\n",
    "                                                       length,\n",
    "                                                       '\\r\\n',\n",
    "                                                      )\n",
    "            response_header_b = response_header.encode(encoding=\"utf-8\")\n",
    "            clientsocket.send(response_header_b) \n",
    "            clientsocket.send(b'\\r\\n') # to separate headers from body\n",
    "            clientsocket.send(response_data)  \n",
    "            \n",
    "            print(\"[301 Redirect Response]: \")\n",
    "            print(response_status)\n",
    "            print(response_header_b)\n",
    "            print(response_data)\n",
    "            break\n",
    "            \n",
    "        # GET 404 Not Found      \n",
    "        elif data_decode[start:end] == \"/notfound.html\":\n",
    "            response_data = b'<html><body>404 Not Found<body><html>'\n",
    "            length = len(response_data)            \n",
    "            response_status = b'HTTP/1.0 404 Not Found\\r\\n'\n",
    "            response_header= '%s%s%s%s%s%s%s%d%s' % ('Date: ',\n",
    "                                                     gmt_now,\n",
    "                                                     '\\r\\n',\n",
    "                                                     'Server: localhost\\r\\n',\n",
    "                                                     'Connection: close\\r\\n',\n",
    "                                                     'Content-Type: text/html; charset=UTF-8\\r\\n',\n",
    "                                                     'Content-Length: ',\n",
    "                                                     length,\n",
    "                                                     '\\r\\n',\n",
    "                                                    )\n",
    "            response_header_b = response_header.encode(encoding=\"utf-8\")\n",
    "            clientsocket.send(response_status)\n",
    "            clientsocket.send(response_header_b) \n",
    "            clientsocket.send(b'\\r\\n') # to separate headers from body\n",
    "            clientsocket.send(response_data)\n",
    "\n",
    "            print(\"[404 Not Found Response]: \")\n",
    "            print(response_status)\n",
    "            print(response_header_b)\n",
    "            print(response_data)\n",
    "            break\n",
    "            \n",
    "        # HEAD    \n",
    "        elif data_decode[start:end] == \"/head.html\": \n",
    "            response_data = b'<html><body>head.html<body><html>'\n",
    "            length = len(response_data) \n",
    "            response_status = b'HTTP/1.0 200 OK\\r\\n'          \n",
    "            response_header= '%s%s%s%s%s%s%s%d%s' % ('Date: ',\n",
    "                                                     gmt_now,\n",
    "                                                     '\\r\\n',\n",
    "                                                     'Server: localhost\\r\\n',\n",
    "                                                     'Connection: close\\r\\n',\n",
    "                                                     'Content-Type: text/html; charset=UTF-8\\r\\n',\n",
    "                                                     'Content-Length: ',\n",
    "                                                     length,\n",
    "                                                     '\\r\\n',\n",
    "                                                    )\n",
    "            response_header_b = response_header.encode(encoding=\"utf-8\")\n",
    "            clientsocket.send(response_status)\n",
    "            clientsocket.send(response_header_b) \n",
    "            clientsocket.send(b'\\r\\n') # to separate headers from body\n",
    "            \n",
    "            print(\"[HEAD]: \")\n",
    "            print(response_status)\n",
    "            print(response_header_b)\n",
    "#             print(response_data)\n",
    "            break\n",
    "            \n",
    "        # POST    \n",
    "        elif data_decode[start:end] == \"/post.html\":  \n",
    "            id_msg = data_decode.find('id=',0)\n",
    "            id_beg = data_decode.find('=',id_msg)+1\n",
    "            id_end = id_beg+9\n",
    "            print(data_decode[id_beg:id_end])\n",
    "            \n",
    "            # test\n",
    "#             msg_or = 'POST /post.html HTTP/1.1\\r\\nHost: 127.0.0.1\\r\\nid=105204027\\r\\n'\n",
    "#             msg_or = 'POST /post.html HTTP/1.1\\r\\nHost: 127.0.0.1\\r\\n\\r\\n'\n",
    "#             msg = msg_or.find('id=',0)\n",
    "#             m_beg = msg_or.find('=',msg)+1\n",
    "#             m_end = m_beg+9\n",
    "#             print(msg_or[m_beg:m_end])\n",
    "#             if msg == -1:\n",
    "#                 stu_id = 'You did not post your student id correctly.'\n",
    "#             else:\n",
    "#                 stu_id = msg_or[m_beg:m_end]\n",
    "            \n",
    "            if id_msg == -1:\n",
    "                stu_id = 'You did not post your student id correctly.'\n",
    "            else:\n",
    "                stu_id = data_decode[id_beg:id_end]\n",
    "            data = '<html><body>%s<body><html>' % (stu_id)\n",
    "            response_data = data.encode(encoding=\"utf-8\")            \n",
    "            length = len(response_data)            \n",
    "            response_status = b'HTTP/1.0 200 OK\\r\\n'\n",
    "            response_header= '%s%s%s%s%s%s%s%d%s' % ('Date: \\r\\n',\n",
    "                                                     gmt_now,\n",
    "                                                     '\\r\\n',\n",
    "                                                     'Server: localhost\\r\\n',\n",
    "                                                     'Connection: close\\r\\n',\n",
    "                                                     'Content-Type: text/html; charset=UTF-8\\r\\n',\n",
    "                                                     'Content-Length: ',\n",
    "                                                     length,\n",
    "                                                     '\\r\\n',\n",
    "                                                    )\n",
    "            response_header_b = response_header.encode(encoding=\"utf-8\")\n",
    "            clientsocket.send(response_status)\n",
    "            clientsocket.send(response_header_b) \n",
    "            clientsocket.send(b'\\r\\n') # to separate headers from body\n",
    "            clientsocket.send(response_data)\n",
    "\n",
    "            print(\"[POST]: \")\n",
    "            print(response_status)\n",
    "            print(response_header_b)\n",
    "            print(response_data)            \n",
    "            break\n",
    "\n",
    "        else:\n",
    "            print(\"false\")\n",
    "            break\n",
    "            \n",
    "        clientsocket.close()\n",
    "\n",
    "   \n",
    "        # if the client sends some termination message to the server, the server close the socket \n",
    "#         if data == b'close':\n",
    "#             clientsocket.close()\n",
    "#             break"
   ]
  },
  {
   "cell_type": "markdown",
   "metadata": {},
   "source": [
    "### accept"
   ]
  },
  {
   "cell_type": "code",
   "execution_count": 9,
   "metadata": {},
   "outputs": [
    {
     "name": "stdout",
     "output_type": "stream",
     "text": [
      "Accepted\n",
      "Accepted\n",
      "from client b'GET /head.html HTTP/1.1\\r\\nHost: 127.0.0.1\\r\\nConnection: keep-alive\\r\\nUpgrade-Insecure-Requests: 1\\r\\nUser-Agent: Mozilla/5.0 (Macintosh; Intel Mac OS X 10_12_6) AppleWebKit/537.36 (KHTML, like Gecko) Chrome/87.0.4280.88 Safari/537.36\\r\\nAccept: text/html,application/xhtml+xml,application/xml;q=0.9,image/avif,image/webp,image/apng,*/*;q=0.8,application/signed-exchange;v=b3;q=0.9\\r\\nPurpose: prefetch\\r\\nSec-Fetch-Site: none\\r\\nSec-Fetch-Mode: navigate\\r\\nSec-Fetch-User: ?1\\r\\nSec-Fetch-Dest: document\\r\\nAccept-Encoding: gzip, deflate, br\\r\\nAccept-Language: zh-TW,zh;q=0.9,en-US;q=0.8,en;q=0.7\\r\\n\\r\\n'\n",
      "/head.html\n",
      "[HEAD]: \n",
      "b'HTTP/1.0 200 OK\\r\\n'\n",
      "b'Date: Sat, 05 Dec 2020 12:45:16 UTC\\r\\nServer: localhost\\r\\nConnection: close\\r\\nContent-Type: text/html; charset=UTF-8\\r\\nContent-Length: 33\\r\\n'\n",
      "from client b'GET /head.html HTTP/1.1\\r\\nHost: 127.0.0.1\\r\\nConnection: keep-alive\\r\\nUpgrade-Insecure-Requests: 1\\r\\nUser-Agent: Mozilla/5.0 (Macintosh; Intel Mac OS X 10_12_6) AppleWebKit/537.36 (KHTML, like Gecko) Chrome/87.0.4280.88 Safari/537.36\\r\\nAccept: text/html,application/xhtml+xml,application/xml;q=0.9,image/avif,image/webp,image/apng,*/*;q=0.8,application/signed-exchange;v=b3;q=0.9\\r\\nSec-Fetch-Site: none\\r\\nSec-Fetch-Mode: navigate\\r\\nSec-Fetch-User: ?1\\r\\nSec-Fetch-Dest: document\\r\\nAccept-Encoding: gzip, deflate, br\\r\\nAccept-Language: zh-TW,zh;q=0.9,en-US;q=0.8,en;q=0.7\\r\\n\\r\\n'\n",
      "/head.html\n",
      "[HEAD]: \n",
      "b'HTTP/1.0 200 OK\\r\\n'\n",
      "b'Date: Sat, 05 Dec 2020 12:45:16 UTC\\r\\nServer: localhost\\r\\nConnection: close\\r\\nContent-Type: text/html; charset=UTF-8\\r\\nContent-Length: 33\\r\\n'\n",
      "Accepted\n"
     ]
    },
    {
     "ename": "KeyboardInterrupt",
     "evalue": "",
     "output_type": "error",
     "traceback": [
      "\u001b[0;31m---------------------------------------------------------------------------\u001b[0m",
      "\u001b[0;31mKeyboardInterrupt\u001b[0m                         Traceback (most recent call last)",
      "\u001b[0;32m<ipython-input-9-1157c05f5be8>\u001b[0m in \u001b[0;36m<module>\u001b[0;34m\u001b[0m\n\u001b[1;32m      7\u001b[0m \u001b[0;32mwhile\u001b[0m \u001b[0;32mTrue\u001b[0m\u001b[0;34m:\u001b[0m\u001b[0;34m\u001b[0m\u001b[0;34m\u001b[0m\u001b[0m\n\u001b[1;32m      8\u001b[0m     \u001b[0;31m# accept a new client and get it's information\u001b[0m\u001b[0;34m\u001b[0m\u001b[0;34m\u001b[0m\u001b[0;34m\u001b[0m\u001b[0m\n\u001b[0;32m----> 9\u001b[0;31m     \u001b[0;34m(\u001b[0m\u001b[0mclientsocket\u001b[0m\u001b[0;34m,\u001b[0m \u001b[0maddress\u001b[0m\u001b[0;34m)\u001b[0m \u001b[0;34m=\u001b[0m \u001b[0ms\u001b[0m\u001b[0;34m.\u001b[0m\u001b[0maccept\u001b[0m\u001b[0;34m(\u001b[0m\u001b[0;34m)\u001b[0m\u001b[0;34m\u001b[0m\u001b[0;34m\u001b[0m\u001b[0m\n\u001b[0m\u001b[1;32m     10\u001b[0m \u001b[0;34m\u001b[0m\u001b[0m\n\u001b[1;32m     11\u001b[0m     \u001b[0;31m# create a new thread to serve this new client\u001b[0m\u001b[0;34m\u001b[0m\u001b[0;34m\u001b[0m\u001b[0;34m\u001b[0m\u001b[0m\n",
      "\u001b[0;32m/opt/miniconda3/lib/python3.8/socket.py\u001b[0m in \u001b[0;36maccept\u001b[0;34m(self)\u001b[0m\n\u001b[1;32m    290\u001b[0m         \u001b[0mFor\u001b[0m \u001b[0mIP\u001b[0m \u001b[0msockets\u001b[0m\u001b[0;34m,\u001b[0m \u001b[0mthe\u001b[0m \u001b[0maddress\u001b[0m \u001b[0minfo\u001b[0m \u001b[0;32mis\u001b[0m \u001b[0ma\u001b[0m \u001b[0mpair\u001b[0m \u001b[0;34m(\u001b[0m\u001b[0mhostaddr\u001b[0m\u001b[0;34m,\u001b[0m \u001b[0mport\u001b[0m\u001b[0;34m)\u001b[0m\u001b[0;34m.\u001b[0m\u001b[0;34m\u001b[0m\u001b[0;34m\u001b[0m\u001b[0m\n\u001b[1;32m    291\u001b[0m         \"\"\"\n\u001b[0;32m--> 292\u001b[0;31m         \u001b[0mfd\u001b[0m\u001b[0;34m,\u001b[0m \u001b[0maddr\u001b[0m \u001b[0;34m=\u001b[0m \u001b[0mself\u001b[0m\u001b[0;34m.\u001b[0m\u001b[0m_accept\u001b[0m\u001b[0;34m(\u001b[0m\u001b[0;34m)\u001b[0m\u001b[0;34m\u001b[0m\u001b[0;34m\u001b[0m\u001b[0m\n\u001b[0m\u001b[1;32m    293\u001b[0m         \u001b[0msock\u001b[0m \u001b[0;34m=\u001b[0m \u001b[0msocket\u001b[0m\u001b[0;34m(\u001b[0m\u001b[0mself\u001b[0m\u001b[0;34m.\u001b[0m\u001b[0mfamily\u001b[0m\u001b[0;34m,\u001b[0m \u001b[0mself\u001b[0m\u001b[0;34m.\u001b[0m\u001b[0mtype\u001b[0m\u001b[0;34m,\u001b[0m \u001b[0mself\u001b[0m\u001b[0;34m.\u001b[0m\u001b[0mproto\u001b[0m\u001b[0;34m,\u001b[0m \u001b[0mfileno\u001b[0m\u001b[0;34m=\u001b[0m\u001b[0mfd\u001b[0m\u001b[0;34m)\u001b[0m\u001b[0;34m\u001b[0m\u001b[0;34m\u001b[0m\u001b[0m\n\u001b[1;32m    294\u001b[0m         \u001b[0;31m# Issue #7995: if no default timeout is set and the listening\u001b[0m\u001b[0;34m\u001b[0m\u001b[0;34m\u001b[0m\u001b[0;34m\u001b[0m\u001b[0m\n",
      "\u001b[0;31mKeyboardInterrupt\u001b[0m: "
     ]
    }
   ],
   "source": [
    "# since at most we can serve many clients (5 in this example), we need a way to distinguish them \n",
    "# as mentioned in the class, TCP use 4-tuple (src IP, dst IP, src port, dst port) to distinguish a socket\n",
    "# we use accept() function to confirm that we connect to the client socket\n",
    "# and accept() function will return the client's socket instance and IP\n",
    "# we need a loop to keep accepting new clients (until 5 clients are accepted)\n",
    "\n",
    "while True:\n",
    "    # accept a new client and get it's information\n",
    "    (clientsocket, address) = s.accept()\n",
    "    \n",
    "    # create a new thread to serve this new client\n",
    "    # after the thread is created, it will start to execute 'target' function with arguments 'args' \n",
    "    threading.Thread(target = serveClient, args = (clientsocket, address)).start()\n",
    "    \n",
    "    print(\"Accepted\")"
   ]
  },
  {
   "cell_type": "code",
   "execution_count": null,
   "metadata": {},
   "outputs": [],
   "source": []
  }
 ],
 "metadata": {
  "kernelspec": {
   "display_name": "Python 3",
   "language": "python",
   "name": "python3"
  },
  "language_info": {
   "codemirror_mode": {
    "name": "ipython",
    "version": 3
   },
   "file_extension": ".py",
   "mimetype": "text/x-python",
   "name": "python",
   "nbconvert_exporter": "python",
   "pygments_lexer": "ipython3",
   "version": "3.8.3"
  }
 },
 "nbformat": 4,
 "nbformat_minor": 2
}
